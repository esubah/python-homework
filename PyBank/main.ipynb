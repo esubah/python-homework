{
 "cells": [
  {
   "cell_type": "code",
   "execution_count": 7,
   "metadata": {},
   "outputs": [
    {
     "name": "stdout",
     "output_type": "stream",
     "text": [
      "Current Working Directory is: C:\\Users\\esuba\\python-homework\\PyBank\n",
      "--------------------------------------------------------------------------------------------------------\n",
      "Total Months of Profit/Losses Reported: 86\n",
      "Total of Profit/Losses Reported over the reporting period: 38382578\n",
      "Average Change is: Total Profit/Losses Difference of -196785 divided by Number of Months 85 = -2315.1176470588234\n",
      "The Greatest Increase in Profits: 58385.5\n",
      "The Greatest Decrease in Profits: -234325.25\n"
     ]
    }
   ],
   "source": [
    "# Import pathlib and csv libraries\n",
    "from pathlib import Path\n",
    "import csv\n",
    "\n",
    "# Check current working directory\n",
    "print(f\"Current Working Directory is: {Path.cwd()}\")  \n",
    "\n",
    "# The total number of months included in the dataset\n",
    "# Set the csv file path\n",
    "input_csvfile = Path(\"../PyBank/budget_data.csv\")\n",
    "\n",
    "lines = 0\n",
    "last_pnl = 0\n",
    "pnl = 0\n",
    "avg = 0\n",
    "diff = 0\n",
    "total_diffs = 0\n",
    "months_denominator = 0\n",
    "max_pnl_increase = 0\n",
    "max_pnl_decrease = 0\n",
    "average_change = 0\n",
    "change = 0\n",
    "min_change = 100000\n",
    "max_change = -100000\n",
    "\n",
    "# Open the CSV file within Python using the open(file) function with file as a CSV file\n",
    "with open(input_csvfile, 'r') as csvfile:\n",
    "    \n",
    "    csvreader = csv.reader(csvfile, delimiter=',')\n",
    "        \n",
    "    for row in csvreader:\n",
    "        if lines == 0:\n",
    "            lines += 1\n",
    "            continue\n",
    "            \n",
    "        \n",
    "        if lines > 1:\n",
    "            diff = int(row[1]) - last_pnl\n",
    "            #print(\"Current Profit/Losses: {} Previous Profit/Losses: {} Change in Profit/Losses: {}.format(row[1], last_pnl, diff)\")\n",
    "            #print({} {} {}.format(row[1], last_pnl, diff))\n",
    "            total_diffs += diff\n",
    "            \n",
    "        pnl += int(row[1])\n",
    "        last_pnl = int(row[1])\n",
    "        lines += 1\n",
    "        months_denominator = lines - 2\n",
    "        change = total_diffs/(lines - 1)\n",
    "        if (min_change > change):\n",
    "            min_change = change\n",
    "        if max_change < change:\n",
    "            max_change = change\n",
    "        #print(\"change = \" + str(change))\n",
    "#max(change)\n",
    " \n",
    "#print(\"Min change: %f\" % min_change)\n",
    "#print(\"Max change: %f\" % max_change)\n",
    "\n",
    "average_change = total_diffs/months_denominator\n",
    "#print(average_change)        \n",
    "#print(\"                          Financial Analysis of the Profit and Losses File\")\n",
    "print(\"--------------------------------------------------------------------------------------------------------\")\n",
    "print(f\"Total Months of Profit/Losses Reported: {lines-1}\")\n",
    "print(f\"Total of Profit/Losses Reported over the reporting period: {pnl}\")\n",
    "print(f\"Average Change is: Total Profit/Losses Difference of {total_diffs} divided by Number of Months {months_denominator} = {total_diffs/months_denominator}\")\n",
    "print(f\"The Greatest Increase in Profits: {max_change}\")\n",
    "print(f\"The Greatest Decrease in Profits: {min_change}\")\n"
   ]
  },
  {
   "cell_type": "code",
   "execution_count": null,
   "metadata": {},
   "outputs": [],
   "source": []
  },
  {
   "cell_type": "code",
   "execution_count": null,
   "metadata": {},
   "outputs": [],
   "source": []
  }
 ],
 "metadata": {
  "kernelspec": {
   "display_name": "Python 3",
   "language": "python",
   "name": "python3"
  },
  "language_info": {
   "codemirror_mode": {
    "name": "ipython",
    "version": 3
   },
   "file_extension": ".py",
   "mimetype": "text/x-python",
   "name": "python",
   "nbconvert_exporter": "python",
   "pygments_lexer": "ipython3",
   "version": "3.7.6"
  }
 },
 "nbformat": 4,
 "nbformat_minor": 4
}
